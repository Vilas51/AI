{
 "cells": [
  {
   "cell_type": "code",
   "execution_count": 3,
   "id": "a5381c8b",
   "metadata": {},
   "outputs": [],
   "source": [
    "from nltk.stem import WordNetLemmatizer"
   ]
  },
  {
   "cell_type": "code",
   "execution_count": 5,
   "id": "67bcbc59",
   "metadata": {},
   "outputs": [],
   "source": [
    "lemmatizer=WordNetLemmatizer()"
   ]
  },
  {
   "cell_type": "code",
   "execution_count": null,
   "id": "69682af3",
   "metadata": {},
   "outputs": [],
   "source": [
    "'''\n",
    "POS - \n",
    "Noun-n (By Default)\n",
    "verb -v\n",
    "adjective-a \n",
    "adverb -r\n",
    "'''\n",
    "lemmatizer.lemmatize(\"going\",pos='v')"
   ]
  },
  {
   "cell_type": "code",
   "execution_count": null,
   "id": "dfa99d8e",
   "metadata": {},
   "outputs": [],
   "source": [
    "words=[\"eating\", \"eats\", \"eaten\", \"writing\", \"writes\", \"programming\", \"programs\", \"programmer\",\"history\"]"
   ]
  },
  {
   "cell_type": "code",
   "execution_count": null,
   "id": "7674993a",
   "metadata": {},
   "outputs": [],
   "source": [
    "for word in words:\n",
    "    print(word+\"---->\"+lemmatizer.lemmatize(word))"
   ]
  },
  {
   "cell_type": "code",
   "execution_count": null,
   "id": "4bd9754b",
   "metadata": {},
   "outputs": [],
   "source": [
    "lemmatizer.lemmatize(\"goes\",pos='v')"
   ]
  }
 ],
 "metadata": {
  "kernelspec": {
   "display_name": "Python 3",
   "language": "python",
   "name": "python3"
  },
  "language_info": {
   "codemirror_mode": {
    "name": "ipython",
    "version": 3
   },
   "file_extension": ".py",
   "mimetype": "text/x-python",
   "name": "python",
   "nbconvert_exporter": "python",
   "pygments_lexer": "ipython3",
   "version": "3.12.0"
  }
 },
 "nbformat": 4,
 "nbformat_minor": 5
}
